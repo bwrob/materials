{
 "cells": [
  {
   "cell_type": "markdown",
   "id": "f8c8ddfb-b1c9-4c7b-af0d-6369e05f1b82",
   "metadata": {},
   "source": [
    "## How to Reset a pandas DataFrame Index"
   ]
  },
  {
   "cell_type": "code",
   "execution_count": null,
   "id": "de7f1d83-8c89-4c42-b6cd-2ed641c3f982",
   "metadata": {},
   "outputs": [],
   "source": [
    "!python -m pip install pandas pyarrow"
   ]
  },
  {
   "cell_type": "code",
   "execution_count": null,
   "id": "b31a0d1d-f4fb-4ed1-bb36-3d83b091aec0",
   "metadata": {},
   "outputs": [],
   "source": [
    "import pandas as pd\n",
    "\n",
    "beach_boys = pd.read_csv(\"band_members.csv\").convert_dtypes(\n",
    "    dtype_backend=\"pyarrow\"\n",
    ")"
   ]
  },
  {
   "cell_type": "code",
   "execution_count": null,
   "id": "67077b0b-17ff-4357-9a54-26b0a82d94d2",
   "metadata": {},
   "outputs": [],
   "source": [
    "beach_boys.dtypes"
   ]
  },
  {
   "cell_type": "code",
   "execution_count": null,
   "id": "cb101f27-d344-4f1c-b093-9b08eab444ca",
   "metadata": {
    "scrolled": true
   },
   "outputs": [],
   "source": [
    "beach_boys"
   ]
  },
  {
   "cell_type": "markdown",
   "id": "bf85bcf0-12dc-4c7d-a25e-5109bb057a76",
   "metadata": {},
   "source": [
    "## How to Reset an Index in a pandas DataFrame With .reset_index()"
   ]
  },
  {
   "cell_type": "code",
   "execution_count": null,
   "id": "7b19f621-f2da-4bbd-80c0-942cb9244d76",
   "metadata": {},
   "outputs": [],
   "source": [
    "beach_boys.reset_index()"
   ]
  },
  {
   "cell_type": "code",
   "execution_count": null,
   "id": "ac49299f-a89a-44f9-bc77-5c8ac38a65dd",
   "metadata": {
    "jupyter": {
     "source_hidden": true
    }
   },
   "outputs": [],
   "source": [
    "beach_boys = beach_boys.reset_index(drop=True)\n",
    "beach_boys"
   ]
  },
  {
   "cell_type": "markdown",
   "id": "8811dd77-89ff-4978-b056-aa04585112ee",
   "metadata": {},
   "source": [
    "## Selecting Rows Using The Index"
   ]
  },
  {
   "cell_type": "code",
   "execution_count": null,
   "id": "87e26c65-be4d-4136-a36d-de31a5ea854f",
   "metadata": {},
   "outputs": [],
   "source": [
    "beach_boys.index = range(1, 10)\n",
    "beach_boys"
   ]
  },
  {
   "cell_type": "code",
   "execution_count": null,
   "id": "e3cdb97d-67b2-4655-bc01-5ab5506c83ed",
   "metadata": {},
   "outputs": [],
   "source": [
    "beach_boys.loc[[1]]"
   ]
  },
  {
   "cell_type": "code",
   "execution_count": null,
   "id": "eddc3706-51f8-425e-8c91-a389bb59ad7e",
   "metadata": {},
   "outputs": [],
   "source": [
    "beach_boys.iloc[[1]]"
   ]
  },
  {
   "cell_type": "code",
   "execution_count": null,
   "id": "11f190ff-400d-42ee-b322-b4b23eb2dc15",
   "metadata": {},
   "outputs": [],
   "source": [
    "beach_boys.loc[2:4]"
   ]
  },
  {
   "cell_type": "code",
   "execution_count": null,
   "id": "ab7b2d99-5870-4b45-91d3-266609270c0e",
   "metadata": {},
   "outputs": [],
   "source": [
    "beach_boys.iloc[2:4]"
   ]
  },
  {
   "cell_type": "markdown",
   "id": "d41359c2-87de-4cdd-809c-9dcf90d52b3d",
   "metadata": {},
   "source": [
    "## Using Alternative Index Resetting Techniques"
   ]
  },
  {
   "cell_type": "code",
   "execution_count": null,
   "id": "ee2774e9-4728-4eb8-bddd-82b8cffd7251",
   "metadata": {},
   "outputs": [],
   "source": [
    "beach_boys.index = list(\"abcdefghi\")\n",
    "beach_boys"
   ]
  },
  {
   "cell_type": "code",
   "execution_count": null,
   "id": "8ea5b3d9-4549-4a3b-af49-01563c7cd867",
   "metadata": {},
   "outputs": [],
   "source": [
    "beach_boys.loc[[\"d\", \"f\"]]"
   ]
  },
  {
   "cell_type": "code",
   "execution_count": null,
   "id": "9840804b-520c-4f3b-b197-6bfceded6f4d",
   "metadata": {},
   "outputs": [],
   "source": [
    "beach_boys.loc[\"d\":\"f\"]"
   ]
  },
  {
   "cell_type": "code",
   "execution_count": null,
   "id": "0fdee9b5-3dbd-4e74-9cb1-e426093b4f09",
   "metadata": {},
   "outputs": [],
   "source": [
    "beach_boys.set_axis(range(len(beach_boys)))"
   ]
  },
  {
   "cell_type": "code",
   "execution_count": null,
   "id": "04358191-5878-4260-ac34-54264c43902d",
   "metadata": {},
   "outputs": [],
   "source": [
    "%timeit -n 1000 beach_boys.reset_index(drop=True)"
   ]
  },
  {
   "cell_type": "code",
   "execution_count": null,
   "id": "37980a62-1ff1-4d38-956a-d1ca978f7407",
   "metadata": {},
   "outputs": [],
   "source": [
    "%timeit -n 1000 beach_boys.index = pd.RangeIndex(len(beach_boys.index))"
   ]
  },
  {
   "cell_type": "code",
   "execution_count": null,
   "id": "b1cd8531-652a-4f60-83d3-d43dc70ba2ef",
   "metadata": {},
   "outputs": [],
   "source": [
    "%timeit -n 1000 beach_boys.set_axis(range(len(beach_boys)))"
   ]
  },
  {
   "cell_type": "markdown",
   "id": "5619822e-7fb0-4c7b-ab5a-129f3243f8c5",
   "metadata": {},
   "source": [
    "## Restore a Sequential Index"
   ]
  },
  {
   "cell_type": "code",
   "execution_count": null,
   "id": "6e01df44-2cf8-42b2-a12f-f4d581312c39",
   "metadata": {},
   "outputs": [],
   "source": [
    "(beach_boys.drop(labels=[3, 5]))"
   ]
  },
  {
   "cell_type": "code",
   "execution_count": null,
   "id": "b85d26af-e073-44de-aaaf-c1e630b35229",
   "metadata": {},
   "outputs": [],
   "source": [
    "(beach_boys.drop(labels=[3, 5]).reset_index())"
   ]
  },
  {
   "cell_type": "code",
   "execution_count": null,
   "id": "ddde0dbc-f91f-4dc8-b180-54014b14b8de",
   "metadata": {},
   "outputs": [],
   "source": [
    "(beach_boys.drop(labels=[3, 5]).reset_index(drop=True))"
   ]
  },
  {
   "cell_type": "markdown",
   "id": "1a506c68-e74f-4f35-a837-322946d7a882",
   "metadata": {},
   "source": [
    "## Remove Duplicate Index Values"
   ]
  },
  {
   "cell_type": "code",
   "execution_count": null,
   "id": "d2736456-2e6b-4f1e-89b2-cd7400a0bfee",
   "metadata": {},
   "outputs": [],
   "source": [
    "guitar_players = beach_boys.query(\"instrument == 'Guitar'\").reset_index(\n",
    "    drop=True\n",
    ")\n",
    "\n",
    "guitar_players"
   ]
  },
  {
   "cell_type": "code",
   "execution_count": null,
   "id": "d18846e7-05ab-4713-b869-a6c95f59bcaa",
   "metadata": {},
   "outputs": [],
   "source": [
    "others = beach_boys.query(\"instrument != 'Guitar'\").reset_index(drop=True)\n",
    "\n",
    "others"
   ]
  },
  {
   "cell_type": "code",
   "execution_count": null,
   "id": "e1701609-8a70-4670-b466-8db357ca3182",
   "metadata": {},
   "outputs": [],
   "source": [
    "all_beach_boys = pd.concat([guitar_players, others])\n",
    "all_beach_boys"
   ]
  },
  {
   "cell_type": "code",
   "execution_count": null,
   "id": "8deb773b-d40c-4db4-aa3a-dc09991415ae",
   "metadata": {},
   "outputs": [],
   "source": [
    "all_beach_boys.loc[3]"
   ]
  },
  {
   "cell_type": "code",
   "execution_count": null,
   "id": "3c2ea368-cf03-462c-865d-3f1bffebd3c8",
   "metadata": {},
   "outputs": [],
   "source": [
    "all_beach_boys.iloc[[3]]"
   ]
  },
  {
   "cell_type": "markdown",
   "id": "8b97b1cd-3298-4d4d-bfd4-a9c33740f8fc",
   "metadata": {},
   "source": [
    "**This code will fail due to the duplicate index.**\n",
    "\n",
    "all_beach_boys.loc[3:4]"
   ]
  },
  {
   "cell_type": "code",
   "execution_count": null,
   "id": "b5a7d4ce-74eb-440d-b234-3adaf960dfc4",
   "metadata": {},
   "outputs": [],
   "source": [
    "all_beach_boys.iloc[3:5]"
   ]
  },
  {
   "cell_type": "code",
   "execution_count": null,
   "id": "a379a7f3-6b29-43d8-8893-445e335068ea",
   "metadata": {},
   "outputs": [],
   "source": [
    "all_beach_boys.sort_index().loc[3:4]"
   ]
  },
  {
   "cell_type": "markdown",
   "id": "9c842667-54d8-4fe9-b0a7-2b6b70be1700",
   "metadata": {},
   "source": [
    "**This code will fail due to the duplicate index.**\n",
    "\n",
    "all_beach_boys.filter(items=[1, 3], axis=\"index\")"
   ]
  },
  {
   "cell_type": "markdown",
   "id": "eef40ce9-5814-4c53-bb7e-6c216eeed6d8",
   "metadata": {},
   "source": [
    "## Use an Existing Column as an Index"
   ]
  },
  {
   "cell_type": "code",
   "execution_count": null,
   "id": "d89d0233-6caa-4ee4-bae5-80cc85b8238b",
   "metadata": {},
   "outputs": [],
   "source": [
    "(beach_boys.set_index(\"first_name\").loc[[\"Brian\", \"Carl\"]])"
   ]
  },
  {
   "cell_type": "code",
   "execution_count": null,
   "id": "11abd710-8384-40a9-b965-e0a4ac863765",
   "metadata": {},
   "outputs": [],
   "source": [
    "beach_boys.index = [f\"Employee_{x}\" for x in range(len(beach_boys))]\n",
    "beach_boys"
   ]
  },
  {
   "cell_type": "code",
   "execution_count": null,
   "id": "9fbba98c-7719-4c85-8700-52fdcf7620e2",
   "metadata": {},
   "outputs": [],
   "source": [
    "beach_boys.loc[[\"Employee_3\"]]"
   ]
  },
  {
   "cell_type": "markdown",
   "id": "590ac61d-0c8d-48bd-a5bd-4ebd458f6899",
   "metadata": {},
   "source": [
    "## Align Indexes of Several DataFrames"
   ]
  },
  {
   "cell_type": "code",
   "execution_count": null,
   "id": "de1d3982-e319-4832-8933-4ddc68416679",
   "metadata": {},
   "outputs": [],
   "source": [
    "week1_sales = pd.read_csv(\"week1_record_sales.csv\").set_index(\"index\")\n",
    "\n",
    "week1_sales"
   ]
  },
  {
   "cell_type": "code",
   "execution_count": null,
   "id": "ddd30d0e-722e-4af5-bfa5-776b52ca3924",
   "metadata": {},
   "outputs": [],
   "source": [
    "week2_sales = pd.read_csv(\"week2_record_sales.csv\").set_index(\"index\")\n",
    "\n",
    "week2_sales"
   ]
  },
  {
   "cell_type": "code",
   "execution_count": null,
   "id": "76cb534c-b6c6-4293-8e85-5d5615f8eff2",
   "metadata": {},
   "outputs": [],
   "source": [
    "week1_sales.loc[:, \"sales\"] + week2_sales.loc[:, \"sales\"]"
   ]
  },
  {
   "cell_type": "code",
   "execution_count": null,
   "id": "51195c17-b2cd-4a4c-a58b-c91341db7e32",
   "metadata": {},
   "outputs": [],
   "source": [
    "week1_sales.merge(week2_sales, left_index=True, right_index=True)"
   ]
  },
  {
   "cell_type": "code",
   "execution_count": null,
   "id": "966792a2-b608-4708-b43c-fa6c81cc2853",
   "metadata": {},
   "outputs": [],
   "source": [
    "week2_sales = week2_sales.reset_index(drop=True)"
   ]
  },
  {
   "cell_type": "code",
   "execution_count": null,
   "id": "74eebf7b-e7d1-40fa-a916-5a66ede9ba43",
   "metadata": {},
   "outputs": [],
   "source": [
    "week1_sales.loc[:, \"sales\"] + week2_sales.loc[:, \"sales\"]"
   ]
  },
  {
   "cell_type": "code",
   "execution_count": null,
   "id": "8ce9e3f8-e39b-498f-b807-a4ac36808aa7",
   "metadata": {},
   "outputs": [],
   "source": [
    "week1_sales.merge(week2_sales, left_index=True, right_index=True)"
   ]
  },
  {
   "cell_type": "markdown",
   "id": "6b0afa7c-7c21-4786-96dc-d073d70632eb",
   "metadata": {},
   "source": [
    "## Resetting Multi-Indexes"
   ]
  },
  {
   "cell_type": "code",
   "execution_count": null,
   "id": "84875451-a540-4b99-9e64-7a89979259ed",
   "metadata": {},
   "outputs": [],
   "source": [
    "cereals = pd.read_csv(\"cereals.csv\").convert_dtypes(dtype_backend=\"pyarrow\")\n",
    "cereals.head()"
   ]
  },
  {
   "cell_type": "code",
   "execution_count": null,
   "id": "cf46a23d-a713-442a-8d1f-ff0d7ade6ad9",
   "metadata": {},
   "outputs": [],
   "source": [
    "cereals.pivot_table(\n",
    "    values=\"fiber\",\n",
    "    index=[\"manufacturer\", \"type\"],\n",
    "    aggfunc=\"mean\",\n",
    ")"
   ]
  },
  {
   "cell_type": "code",
   "execution_count": null,
   "id": "b800c41b-a419-4ca9-9f44-eb2e142994b5",
   "metadata": {},
   "outputs": [],
   "source": [
    "cereals.pivot_table(\n",
    "    values=\"fiber\",\n",
    "    index=[\"manufacturer\", \"type\"],\n",
    "    aggfunc=\"mean\",\n",
    ").index"
   ]
  },
  {
   "cell_type": "code",
   "execution_count": null,
   "id": "4e923fb6-93ed-40a6-9909-fb0b5341de38",
   "metadata": {},
   "outputs": [],
   "source": [
    "cereals.pivot_table(\n",
    "    values=\"fiber\",\n",
    "    index=[\"manufacturer\", \"type\"],\n",
    "    aggfunc=\"mean\",\n",
    ").reset_index(level=0)"
   ]
  },
  {
   "cell_type": "code",
   "execution_count": null,
   "id": "9ba210a4-1870-451e-b6ae-975b11548786",
   "metadata": {},
   "outputs": [],
   "source": [
    "cereals.pivot_table(\n",
    "    values=\"fiber\",\n",
    "    index=[\"manufacturer\", \"type\"],\n",
    "    aggfunc=\"mean\",\n",
    ").reset_index()"
   ]
  }
 ],
 "metadata": {
  "kernelspec": {
   "display_name": "Python 3 (ipykernel)",
   "language": "python",
   "name": "python3"
  },
  "language_info": {
   "codemirror_mode": {
    "name": "ipython",
    "version": 3
   },
   "file_extension": ".py",
   "mimetype": "text/x-python",
   "name": "python",
   "nbconvert_exporter": "python",
   "pygments_lexer": "ipython3",
   "version": "3.12.0"
  }
 },
 "nbformat": 4,
 "nbformat_minor": 5
}
